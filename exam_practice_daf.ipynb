{
  "cells": [
    {
      "cell_type": "markdown",
      "metadata": {
        "id": "view-in-github",
        "colab_type": "text"
      },
      "source": [
        "<a href=\"https://colab.research.google.com/github/SimranThakur0/ML_ASSIGNMENTS/blob/main/exam_practice_daf.ipynb\" target=\"_parent\"><img src=\"https://colab.research.google.com/assets/colab-badge.svg\" alt=\"Open In Colab\"/></a>"
      ]
    },
    {
      "cell_type": "markdown",
      "id": "a5614181-4f72-42db-809b-eb96ec4a2ba5",
      "metadata": {
        "id": "a5614181-4f72-42db-809b-eb96ec4a2ba5"
      },
      "source": [
        "1.\tTo Compute the Eigen values of a matrix, Compute the multiplicative inverse of a matrix"
      ]
    },
    {
      "cell_type": "code",
      "execution_count": null,
      "id": "f0def8b1-0184-4d50-98af-d8e9eb328817",
      "metadata": {
        "id": "f0def8b1-0184-4d50-98af-d8e9eb328817"
      },
      "outputs": [],
      "source": [
        "import numpy as np"
      ]
    },
    {
      "cell_type": "code",
      "execution_count": null,
      "id": "11608ec0-5191-4baa-b2d4-2beed5405dc0",
      "metadata": {
        "id": "11608ec0-5191-4baa-b2d4-2beed5405dc0",
        "outputId": "0c6e79cd-b737-4c78-9286-107bead7be67"
      },
      "outputs": [
        {
          "name": "stdout",
          "output_type": "stream",
          "text": [
            "Eigenvalues:  [12.75917896 -1.05604197  0.29686301]\n",
            "Matrix is not invertible\n"
          ]
        }
      ],
      "source": [
        "def comp_eig(matrix):\n",
        "    value,vectors = np.linalg.eig(matrix)\n",
        "    return value\n",
        "def comp_inverse(matrix):\n",
        "    try:\n",
        "        np.linalg.inv(matrix)\n",
        "    except np.linalg.LinAlgError:\n",
        "        return None\n",
        "\n",
        "matrix = np.array([[1,2,3],[2,4,5],[5,6,7]])\n",
        "eigenvalues = comp_eig(matrix)\n",
        "print(\"Eigenvalues: \", eigenvalues)\n",
        "\n",
        "inverse = comp_inverse(matrix)\n",
        "if inverse is not None:\n",
        "    print(\"INVERSE: \", inverse)\n",
        "\n",
        "else:\n",
        "    print(\"Matrix is not invertible\")\n",
        "\n",
        "\n",
        "\n",
        ""
      ]
    },
    {
      "cell_type": "markdown",
      "id": "d9356afb-5ce5-406e-ba93-617ac1f41774",
      "metadata": {
        "id": "d9356afb-5ce5-406e-ba93-617ac1f41774"
      },
      "source": [
        "2.\tTo write a python programming to find area of Square and area of\n",
        "Triangle using method overloading  \n"
      ]
    },
    {
      "cell_type": "code",
      "execution_count": null,
      "id": "81999d9a-3c79-4ce3-928d-6496ec284795",
      "metadata": {
        "id": "81999d9a-3c79-4ce3-928d-6496ec284795",
        "outputId": "af1a8144-befa-45bf-e38f-c440082e845a"
      },
      "outputs": [
        {
          "name": "stdout",
          "output_type": "stream",
          "text": [
            "Area of Square: 25\n",
            "Area of Triangle: 6.0\n"
          ]
        }
      ],
      "source": [
        "class Area:\n",
        "    def calculate_area(self, *args):\n",
        "        if len(args) == 1:  # If only one argument is provided, it's a square\n",
        "            side = args[0]\n",
        "            area = side * side\n",
        "            return area\n",
        "        elif len(args) == 2:  # If two arguments are provided, it's a triangle\n",
        "            base, height = args\n",
        "            area = 0.5 * base * height\n",
        "            return area\n",
        "        else:\n",
        "            raise ValueError(\"Invalid number of arguments\")\n",
        "\n",
        "# Example usage:\n",
        "geometry = Area()\n",
        "\n",
        "# Calculate the area of a square with a side length of 5\n",
        "square_area = geometry.calculate_area(5)\n",
        "print(\"Area of Square:\", square_area)\n",
        "\n",
        "# Calculate the area of a triangle with a base of 4 and a height of 3\n",
        "triangle_area = geometry.calculate_area(4, 3)\n",
        "print(\"Area of Triangle:\", triangle_area)\n"
      ]
    },
    {
      "cell_type": "code",
      "execution_count": null,
      "id": "b1a68e0b-e8ba-4b56-9fe2-af4452eebd0c",
      "metadata": {
        "id": "b1a68e0b-e8ba-4b56-9fe2-af4452eebd0c"
      },
      "outputs": [],
      "source": []
    },
    {
      "cell_type": "markdown",
      "id": "68ee708d-ca8b-4218-93b1-ef63e7694515",
      "metadata": {
        "id": "68ee708d-ca8b-4218-93b1-ef63e7694515"
      },
      "source": [
        "1.\tTo Design a Python Script to determine the time difference between two\n",
        "given times in HH:MM:SS format.( 0 <= HH <= 23, 0 <= MM <= 59, 0<= SS <= 59).\n"
      ]
    },
    {
      "cell_type": "code",
      "execution_count": null,
      "id": "c7e8a8d7-6936-43fe-a5be-382774673851",
      "metadata": {
        "id": "c7e8a8d7-6936-43fe-a5be-382774673851",
        "outputId": "8fab6bd5-d7e5-4360-fd32-b5bca892f3f0"
      },
      "outputs": [
        {
          "name": "stdin",
          "output_type": "stream",
          "text": [
            "Enter date as yyyy:mm:dd: 2023:05:23\n",
            "Enter date as yyyy:mm:dd: 2002:05:23\n"
          ]
        },
        {
          "name": "stdout",
          "output_type": "stream",
          "text": [
            "The differnce between the days is: -7670 days, 0:00:00\n"
          ]
        }
      ],
      "source": [
        "from datetime import datetime\n",
        "d1=input(\"Enter date as yyyy:mm:dd:\")\n",
        "d2=input(\"Enter date as yyyy:mm:dd:\")\n",
        "d3=datetime.strptime(d1,\"%Y:%m:%d\").date()\n",
        "d4=datetime.strptime(d2,\"%Y:%m:%d\").date()\n",
        "diff=d4-d3\n",
        "print(\"The differnce between the days is:\",diff)"
      ]
    },
    {
      "cell_type": "code",
      "execution_count": null,
      "id": "be62e27a-769c-494f-94eb-f6946ade811d",
      "metadata": {
        "id": "be62e27a-769c-494f-94eb-f6946ade811d"
      },
      "outputs": [],
      "source": []
    },
    {
      "cell_type": "markdown",
      "id": "f2186431-860b-41b5-a85f-fc13602a8e6f",
      "metadata": {
        "id": "f2186431-860b-41b5-a85f-fc13602a8e6f"
      },
      "source": [
        "2.\tArea of Circle and square using multilevel Inheritance"
      ]
    },
    {
      "cell_type": "code",
      "execution_count": null,
      "id": "a0c5ff74-2808-4fc5-b21c-796f9ee71646",
      "metadata": {
        "id": "a0c5ff74-2808-4fc5-b21c-796f9ee71646",
        "outputId": "5265476d-532f-4ed8-b76a-705e4cfccd5f"
      },
      "outputs": [
        {
          "name": "stdout",
          "output_type": "stream",
          "text": [
            "Area of Square: 25\n",
            "Area of Circle: 28.274333882308138\n"
          ]
        }
      ],
      "source": [
        "import math\n",
        "\n",
        "# Base class representing a shape\n",
        "class Shape:\n",
        "    def area(self):\n",
        "        pass\n",
        "\n",
        "# Subclass representing a square\n",
        "class Square(Shape):\n",
        "    def __init__(self, side):\n",
        "        self.side = side\n",
        "\n",
        "    def area(self):\n",
        "        return self.side * self.side\n",
        "\n",
        "# Subclass representing a circle\n",
        "class Circle(Square):\n",
        "    def __init__(self, radius):\n",
        "        self.radius = radius\n",
        "\n",
        "    def area(self):\n",
        "        return math.pi * self.radius ** 2\n",
        "\n",
        "# Example usage\n",
        "square = Square(5)\n",
        "circle = Circle(3)\n",
        "\n",
        "print(f\"Area of Square: {square.area()}\")\n",
        "print(f\"Area of Circle: {circle.area()}\")\n"
      ]
    },
    {
      "cell_type": "markdown",
      "id": "582892ba-d11d-457f-88f7-0dbbf4865322",
      "metadata": {
        "id": "582892ba-d11d-457f-88f7-0dbbf4865322"
      },
      "source": [
        "1.\tPython to print the various Date Time formats. a) Current  date and time b) Current year c) Month of year d) Week number of the year e) Weekday of the week f) Day of year g) Day of the month h) Dayof week"
      ]
    },
    {
      "cell_type": "code",
      "execution_count": null,
      "id": "99edb46a-2675-481f-b88d-c1545f64a08c",
      "metadata": {
        "id": "99edb46a-2675-481f-b88d-c1545f64a08c",
        "outputId": "f0c278af-79c0-4962-ef60-87cdd3d0c474"
      },
      "outputs": [
        {
          "name": "stdout",
          "output_type": "stream",
          "text": [
            "a) Current date and time: 2023-11-08 11:21:05.634134\n",
            "b) Current year: 2023\n",
            "c) Month of the year: November\n",
            "d) Week number of the year: 45\n",
            "e) Weekday of the week: Wednesday\n",
            "f) Day of the year: 312\n",
            "g) Day of the month: 8\n",
            "h) Day of the week: 2\n"
          ]
        }
      ],
      "source": [
        "import datetime\n",
        "\n",
        "# a) Current date and time\n",
        "current_datetime = datetime.datetime.now()\n",
        "print(\"a) Current date and time:\", current_datetime)\n",
        "\n",
        "# b) Current year\n",
        "current_year = current_datetime.year\n",
        "print(\"b) Current year:\", current_year)\n",
        "\n",
        "# c) Month of the year\n",
        "current_month = current_datetime.strftime(\"%B\")\n",
        "print(\"c) Month of the year:\", current_month)\n",
        "\n",
        "# d) Week number of the year\n",
        "week_number = current_datetime.strftime(\"%U\")\n",
        "print(\"d) Week number of the year:\", week_number)\n",
        "\n",
        "# e) Weekday of the week (0 = Monday, 6 = Sunday)\n",
        "weekday = current_datetime.strftime(\"%A\")\n",
        "print(\"e) Weekday of the week:\", weekday)\n",
        "\n",
        "# f) Day of the year\n",
        "day_of_year = current_datetime.timetuple().tm_yday\n",
        "print(\"f) Day of the year:\", day_of_year)\n",
        "\n",
        "# g) Day of the month\n",
        "day_of_month = current_datetime.day\n",
        "print(\"g) Day of the month:\", day_of_month)\n",
        "\n",
        "# h) Day of the week (0 = Monday, 6 = Sunday)\n",
        "day_of_week = current_datetime.weekday()\n",
        "print(\"h) Day of the week:\", day_of_week)\n"
      ]
    },
    {
      "cell_type": "code",
      "execution_count": null,
      "id": "4a1cae97-0ee7-4df1-8eff-4e0465e63924",
      "metadata": {
        "id": "4a1cae97-0ee7-4df1-8eff-4e0465e63924"
      },
      "outputs": [],
      "source": []
    },
    {
      "cell_type": "markdown",
      "id": "e35b085b-86be-4e5c-b96b-0f39b27fa9c7",
      "metadata": {
        "id": "e35b085b-86be-4e5c-b96b-0f39b27fa9c7"
      },
      "source": [
        "2.\tProgram to Check a Number is Spy number or No"
      ]
    },
    {
      "cell_type": "code",
      "execution_count": null,
      "id": "7314f513-4a3b-442e-962d-9242e9f18c60",
      "metadata": {
        "id": "7314f513-4a3b-442e-962d-9242e9f18c60",
        "outputId": "9f846641-0f1e-4cb2-85b6-4bb58aff1ae3"
      },
      "outputs": [
        {
          "name": "stdin",
          "output_type": "stream",
          "text": [
            "Enter a number to check if it's a Spy number:  7878\n"
          ]
        },
        {
          "name": "stdout",
          "output_type": "stream",
          "text": [
            "7878 is not a Spy number.\n"
          ]
        }
      ],
      "source": [
        "def is_spy_number(number):\n",
        "    # Convert the number to a string to iterate over its digits\n",
        "    number_str = str(number)\n",
        "\n",
        "    # Calculate the sum and product of the digits\n",
        "    digit_sum = 0\n",
        "    digit_product = 1\n",
        "\n",
        "    for digit in number_str:\n",
        "        digit_int = int(digit)\n",
        "        digit_sum += digit_int\n",
        "        digit_product *= digit_int\n",
        "\n",
        "    # Check if it's a Spy number\n",
        "    return digit_sum == digit_product\n",
        "\n",
        "# Input number to check\n",
        "num = int(input(\"Enter a number to check if it's a Spy number: \"))\n",
        "\n",
        "if is_spy_number(num):\n",
        "    print(f\"{num} is a Spy number.\")\n",
        "else:\n",
        "    print(f\"{num} is not a Spy number.\")\n"
      ]
    },
    {
      "cell_type": "code",
      "execution_count": null,
      "id": "7bbd80b5-966a-4abc-8571-a64b88b729ac",
      "metadata": {
        "id": "7bbd80b5-966a-4abc-8571-a64b88b729ac"
      },
      "outputs": [],
      "source": []
    },
    {
      "cell_type": "markdown",
      "id": "1e393214-c50c-43cf-9713-631394c4b32a",
      "metadata": {
        "id": "1e393214-c50c-43cf-9713-631394c4b32a"
      },
      "source": [
        "1.\tAddition, Subtraction and multiplication using multilevel\n",
        "2.\tTo write a python program to concatenate the dataframes with twodifferent objects.\n"
      ]
    },
    {
      "cell_type": "code",
      "execution_count": null,
      "id": "cfd039b8-539c-40a7-9619-a47cbb964804",
      "metadata": {
        "id": "cfd039b8-539c-40a7-9619-a47cbb964804",
        "outputId": "a2105fa6-0092-477b-cbe9-562a39b7882f"
      },
      "outputs": [
        {
          "name": "stdout",
          "output_type": "stream",
          "text": [
            "Addition: 10 + 5 = 15\n",
            "Subtraction: 10 - 5 = 5\n",
            "Multiplication: 10 * 5 = 50\n"
          ]
        }
      ],
      "source": [
        "class Operation:\n",
        "    def __init__(self, a, b):\n",
        "        self.a = a\n",
        "        self.b = b\n",
        "\n",
        "    def addition(self):\n",
        "        return self.a + self.b\n",
        "\n",
        "    def subtraction(self):\n",
        "        return self.a - self.b\n",
        "\n",
        "class Multiplication(Operation):\n",
        "    def multiplication(self):\n",
        "        return self.a * self.b\n",
        "\n",
        "class Calculator(Multiplication):\n",
        "    def calculate(self):\n",
        "        result_add = self.addition()\n",
        "        result_sub = self.subtraction()\n",
        "        result_mul = self.multiplication()\n",
        "        return result_add, result_sub, result_mul\n",
        "\n",
        "# Example usage\n",
        "a = 10\n",
        "b = 5\n",
        "\n",
        "calc = Calculator(a, b)\n",
        "addition_result, subtraction_result, multiplication_result = calc.calculate()\n",
        "\n",
        "print(f\"Addition: {a} + {b} = {addition_result}\")\n",
        "print(f\"Subtraction: {a} - {b} = {subtraction_result}\")\n",
        "print(f\"Multiplication: {a} * {b} = {multiplication_result}\")\n"
      ]
    },
    {
      "cell_type": "code",
      "execution_count": null,
      "id": "feaa5f36-f080-4db7-ac04-d6c69aa87c46",
      "metadata": {
        "id": "feaa5f36-f080-4db7-ac04-d6c69aa87c46",
        "outputId": "9f2ed3b1-efe8-4763-e300-bcad026f21f0"
      },
      "outputs": [
        {
          "name": "stdout",
          "output_type": "stream",
          "text": [
            "Concatenated DataFrame:\n",
            "     A    B    C    D\n",
            "0  1.0  4.0  NaN  NaN\n",
            "1  2.0  5.0  NaN  NaN\n",
            "2  3.0  6.0  NaN  NaN\n",
            "0  NaN  NaN    x    p\n",
            "1  NaN  NaN    y    q\n",
            "2  NaN  NaN    z    r\n"
          ]
        }
      ],
      "source": [
        "import pandas as pd\n",
        "\n",
        "# Sample data\n",
        "data1 = {'A': [1, 2, 3], 'B': [4, 5, 6]}\n",
        "data2 = {'C': ['x', 'y', 'z'], 'D': ['p', 'q', 'r']}\n",
        "\n",
        "# Create dataframes from the sample data\n",
        "df1 = pd.DataFrame(data1)\n",
        "df2 = pd.DataFrame(data2)\n",
        "\n",
        "# Concatenate the dataframes vertically\n",
        "result_df = pd.concat([df1, df2], axis=0)\n",
        "\n",
        "print(\"Concatenated DataFrame:\")\n",
        "print(result_df)\n"
      ]
    },
    {
      "cell_type": "markdown",
      "id": "54ad422b-99a0-4765-939c-17b9f0c8d2e2",
      "metadata": {
        "id": "54ad422b-99a0-4765-939c-17b9f0c8d2e2"
      },
      "source": [
        "1.\tPython program to add 5 seconds with the current time.\n",
        "2.\tTo Create multi-dimensional arrays and find its shape and dimension\n"
      ]
    },
    {
      "cell_type": "code",
      "execution_count": null,
      "id": "f6ea73cc-4269-4ff0-8bbf-2b6e2e86ba69",
      "metadata": {
        "id": "f6ea73cc-4269-4ff0-8bbf-2b6e2e86ba69",
        "outputId": "406ebaf2-5e36-4431-d308-b20b89e804e7"
      },
      "outputs": [
        {
          "name": "stdout",
          "output_type": "stream",
          "text": [
            "Current Time: 2023-11-08 11:24:15.614455\n",
            "Current Time + 5 seconds: 2023-11-08 11:24:20.614455\n"
          ]
        }
      ],
      "source": [
        "import datetime\n",
        "\n",
        "# Get the current time\n",
        "current_time = datetime.datetime.now()\n",
        "\n",
        "# Add 5 seconds to the current time\n",
        "new_time = current_time + datetime.timedelta(seconds=5)\n",
        "\n",
        "print(\"Current Time:\", current_time)\n",
        "print(\"Current Time + 5 seconds:\", new_time)\n"
      ]
    },
    {
      "cell_type": "code",
      "execution_count": null,
      "id": "cb68a641-2ff5-4bc8-af3d-9dac10362a2c",
      "metadata": {
        "id": "cb68a641-2ff5-4bc8-af3d-9dac10362a2c",
        "outputId": "04eac449-13c1-4925-b1d8-9fa21345330e"
      },
      "outputs": [
        {
          "name": "stdout",
          "output_type": "stream",
          "text": [
            "2D Array:\n",
            "[[1 2 3]\n",
            " [4 5 6]]\n",
            "Shape: (2, 3)\n",
            "Dimensions: 2\n"
          ]
        }
      ],
      "source": [
        "import numpy as np\n",
        "\n",
        "# Create a 2D array\n",
        "multi_dim_array = np.array([[1, 2, 3], [4, 5, 6]])\n",
        "\n",
        "# Find the shape and dimensions\n",
        "shape = multi_dim_array.shape\n",
        "dimensions = multi_dim_array.ndim\n",
        "\n",
        "print(\"2D Array:\")\n",
        "print(multi_dim_array)\n",
        "print(\"Shape:\", shape)\n",
        "print(\"Dimensions:\", dimensions)\n"
      ]
    },
    {
      "cell_type": "markdown",
      "id": "53487e6b-78c5-43b8-b429-5f372c0b9df2",
      "metadata": {
        "id": "53487e6b-78c5-43b8-b429-5f372c0b9df2"
      },
      "source": [
        "1.\tTo Compute the rank of a matrix & determinant of an array\n",
        "2.\tWrite a python Program to print all Twin Primes less than N.\n"
      ]
    },
    {
      "cell_type": "code",
      "execution_count": null,
      "id": "1abaf03c-c8b6-43b5-94d0-7446e1a59ee7",
      "metadata": {
        "id": "1abaf03c-c8b6-43b5-94d0-7446e1a59ee7",
        "outputId": "01e81c72-5d70-4190-8aba-13db0df7494b"
      },
      "outputs": [
        {
          "name": "stdout",
          "output_type": "stream",
          "text": [
            "Matrix:\n",
            "[[1 2 3]\n",
            " [4 5 6]\n",
            " [7 8 9]]\n",
            "Rank of the matrix: 2\n",
            "Determinant of the matrix: 0.0\n"
          ]
        }
      ],
      "source": [
        "import numpy as np\n",
        "\n",
        "# Define a matrix\n",
        "matrix = np.array([[1, 2, 3],\n",
        "                  [4, 5, 6],\n",
        "                  [7, 8, 9]])\n",
        "\n",
        "# Compute the rank of the matrix\n",
        "rank = np.linalg.matrix_rank(matrix)\n",
        "\n",
        "# Compute the determinant of the matrix\n",
        "determinant = np.linalg.det(matrix)\n",
        "\n",
        "print(\"Matrix:\")\n",
        "print(matrix)\n",
        "print(\"Rank of the matrix:\", rank)\n",
        "print(\"Determinant of the matrix:\", determinant)\n"
      ]
    },
    {
      "cell_type": "code",
      "execution_count": null,
      "id": "7e2df9bb-50e4-4512-9982-18a2c7bc2d10",
      "metadata": {
        "id": "7e2df9bb-50e4-4512-9982-18a2c7bc2d10",
        "outputId": "ac4891bf-edcc-4413-9579-7f3cac41229f"
      },
      "outputs": [
        {
          "name": "stdin",
          "output_type": "stream",
          "text": [
            "Enter a number (N):  78\n"
          ]
        },
        {
          "name": "stdout",
          "output_type": "stream",
          "text": [
            "Twin Primes less than 78:\n",
            "(3, 5)\n",
            "(5, 7)\n",
            "(11, 13)\n",
            "(17, 19)\n",
            "(29, 31)\n",
            "(41, 43)\n",
            "(59, 61)\n",
            "(71, 73)\n"
          ]
        }
      ],
      "source": [
        "def is_prime(n):\n",
        "    if n <= 1:\n",
        "        return False\n",
        "    for i in range(2, int(n**0.5) + 1):\n",
        "        if n % i == 0:\n",
        "            return False\n",
        "    return True\n",
        "\n",
        "def find_twin_primes(N):\n",
        "    twin_primes = []\n",
        "    for num in range(2, N - 1):\n",
        "        if is_prime(num) and is_prime(num + 2):\n",
        "            twin_primes.append((num, num + 2))\n",
        "    return twin_primes\n",
        "\n",
        "N = int(input(\"Enter a number (N): \"))\n",
        "twin_prime_pairs = find_twin_primes(N)\n",
        "\n",
        "print(f\"Twin Primes less than {N}:\")\n",
        "for pair in twin_prime_pairs:\n",
        "    print(pair)\n"
      ]
    },
    {
      "cell_type": "markdown",
      "id": "9bfa3277-a275-4334-9c7a-762965372882",
      "metadata": {
        "id": "9bfa3277-a275-4334-9c7a-762965372882"
      },
      "source": [
        "\n",
        "1.\tArea of Circle and square using multilevel Inheritance\n",
        "2.\tto determine the time difference between twogiven times in HH:MM:SS format.( 0 <= HH <= 23, 0 <= MM <= 59, 0<= SS <= 59)\n"
      ]
    },
    {
      "cell_type": "code",
      "execution_count": null,
      "id": "4efa5749-f82a-4588-8777-b67468419dc7",
      "metadata": {
        "id": "4efa5749-f82a-4588-8777-b67468419dc7",
        "outputId": "e13a7e8c-168b-4e86-8033-d3de7abeba4d"
      },
      "outputs": [
        {
          "name": "stdout",
          "output_type": "stream",
          "text": [
            "Area of Square: 25\n",
            "Area of Circle: 28.274333882308138\n",
            "Time difference: 02:14:45\n"
          ]
        }
      ],
      "source": [
        "import math\n",
        "\n",
        "# Base class for shape\n",
        "class Shape:\n",
        "    def __init__(self):\n",
        "        pass\n",
        "\n",
        "# Subclass for square\n",
        "class Square(Shape):\n",
        "    def __init__(self, side):\n",
        "        super().__init__()\n",
        "        self.side = side\n",
        "\n",
        "    def calculate_area(self):\n",
        "        return self.side ** 2\n",
        "\n",
        "# Subclass for circle\n",
        "class Circle(Shape):\n",
        "    def __init__(self, radius):\n",
        "        super().__init__()\n",
        "        self.radius = radius\n",
        "\n",
        "    def calculate_area(self):\n",
        "        return math.pi * self.radius ** 2\n",
        "\n",
        "# Example usage for calculating areas\n",
        "square = Square(5)\n",
        "circle = Circle(3)\n",
        "\n",
        "print(f\"Area of Square: {square.calculate_area()}\")\n",
        "print(f\"Area of Circle: {circle.calculate_area()}\")\n",
        "\n",
        "# Example usage for determining time difference\n",
        "time1 = \"12:30:45\"\n",
        "time2 = \"14:45:30\"\n",
        "\n",
        "time_diff = time_difference(time1, time2)\n",
        "print(f\"Time difference: {time_diff}\")\n"
      ]
    },
    {
      "cell_type": "code",
      "execution_count": null,
      "id": "7a6d9df2-6728-42e3-bba9-990c3ec62f86",
      "metadata": {
        "id": "7a6d9df2-6728-42e3-bba9-990c3ec62f86"
      },
      "outputs": [],
      "source": [
        "def time_difference(time1, time2):\n",
        "    try:\n",
        "        h1, m1, s1 = map(int, time1.split(':'))\n",
        "        h2, m2, s2 = map(int, time2.split(':'))\n",
        "\n",
        "        total_seconds1 = h1 * 3600 + m1 * 60 + s1\n",
        "        total_seconds2 = h2 * 3600 + m2 * 60 + s2\n",
        "\n",
        "        difference_seconds = abs(total_seconds1 - total_seconds2)\n",
        "\n",
        "        hours = difference_seconds // 3600\n",
        "        minutes = (difference_seconds % 3600) // 60\n",
        "        seconds = difference_seconds % 60\n",
        "\n",
        "        return f\"{hours:02d}:{minutes:02d}:{seconds:02d}\"\n",
        "    except ValueError:\n",
        "        return \"Invalid time format. Please use HH:MM:SS format.\"\n"
      ]
    },
    {
      "cell_type": "markdown",
      "id": "a0fac978-9751-471a-8303-9f56ee375c57",
      "metadata": {
        "id": "a0fac978-9751-471a-8303-9f56ee375c57"
      },
      "source": [
        "1.\tAddition, Subtraction and multiplication using  multiple inheritance.\n",
        "2.\tTo Compute the rank of a matrix & determinant of an array\n",
        "\n"
      ]
    },
    {
      "cell_type": "code",
      "execution_count": null,
      "id": "94e52fe7-0ee5-43bb-ab3f-881812b9ead1",
      "metadata": {
        "id": "94e52fe7-0ee5-43bb-ab3f-881812b9ead1"
      },
      "outputs": [],
      "source": []
    },
    {
      "cell_type": "code",
      "execution_count": null,
      "id": "c9d20891-f4df-489f-b4b5-415c1c0f3197",
      "metadata": {
        "id": "c9d20891-f4df-489f-b4b5-415c1c0f3197"
      },
      "outputs": [],
      "source": []
    },
    {
      "cell_type": "markdown",
      "id": "29eab2e2-de27-467d-be76-8ea6ce2af44d",
      "metadata": {
        "id": "29eab2e2-de27-467d-be76-8ea6ce2af44d"
      },
      "source": [
        "1\tTo write a python Programming to find Area of Rectangle Hierarchical Inheritance.\n",
        "2\tTo Use statistical functions on array - Min, Max, Mean, Median andStandard Deviation.\n"
      ]
    },
    {
      "cell_type": "code",
      "execution_count": null,
      "id": "181f161c-28dd-46be-98c4-28e8b8bdc871",
      "metadata": {
        "id": "181f161c-28dd-46be-98c4-28e8b8bdc871",
        "outputId": "d6eca6b3-ee57-434b-8080-45c443935a14"
      },
      "outputs": [
        {
          "name": "stdout",
          "output_type": "stream",
          "text": [
            "Area of Rectangle: 20\n",
            "Area of Square: 20\n"
          ]
        }
      ],
      "source": [
        "class Shape:\n",
        "    def __init__(self, length, width):\n",
        "        self.length = length\n",
        "        self.width = width\n",
        "\n",
        "class Rectangle(Shape):\n",
        "    def calculate_area(self):\n",
        "        return self.length * self.width\n",
        "\n",
        "class Square(Shape):\n",
        "    def calculate_area(self):\n",
        "        return self.length * self.width\n",
        "\n",
        "# Example usage\n",
        "length = 5\n",
        "width = 4\n",
        "\n",
        "rectangle = Rectangle(length, width)\n",
        "square = Square(length, width)\n",
        "\n",
        "print(f\"Area of Rectangle: {rectangle.calculate_area()}\")\n",
        "print(f\"Area of Square: {square.calculate_area()}\")\n"
      ]
    },
    {
      "cell_type": "code",
      "execution_count": null,
      "id": "88d40992-35f0-4a64-9bc6-6f6590b91ec6",
      "metadata": {
        "id": "88d40992-35f0-4a64-9bc6-6f6590b91ec6",
        "outputId": "c7c07c5f-d9d5-4c61-9919-1e2ca63f03c8"
      },
      "outputs": [
        {
          "name": "stdout",
          "output_type": "stream",
          "text": [
            "Data Array: [ 1  2  3  4  5  6  7  8  9 10]\n",
            "Minimum Value: 1\n",
            "Maximum Value: 10\n",
            "Mean (Average) Value: 5.5\n",
            "Median Value: 5.5\n",
            "Standard Deviation: 2.8722813232690143\n"
          ]
        }
      ],
      "source": [
        "import numpy as np\n",
        "\n",
        "# Sample array\n",
        "data = np.array([1, 2, 3, 4, 5, 6, 7, 8, 9, 10])\n",
        "\n",
        "# Minimum value\n",
        "min_value = np.min(data)\n",
        "\n",
        "# Maximum value\n",
        "max_value = np.max(data)\n",
        "\n",
        "# Mean (average) value\n",
        "mean_value = np.mean(data)\n",
        "\n",
        "# Median value\n",
        "median_value = np.median(data)\n",
        "\n",
        "# Standard deviation\n",
        "std_deviation = np.std(data)\n",
        "\n",
        "print(\"Data Array:\", data)\n",
        "print(\"Minimum Value:\", min_value)\n",
        "print(\"Maximum Value:\", max_value)\n",
        "print(\"Mean (Average) Value:\", mean_value)\n",
        "print(\"Median Value:\", median_value)\n",
        "print(\"Standard Deviation:\", std_deviation)\n"
      ]
    },
    {
      "cell_type": "markdown",
      "id": "88c1e854-622f-46e9-995b-0be69488f5bb",
      "metadata": {
        "id": "88c1e854-622f-46e9-995b-0be69488f5bb"
      },
      "source": [
        "1.\tTo Reshape and flatten data in the array\n",
        "2.\twrite a python program to find sum of the two numbers and productof the three numbers using method overloading.\n"
      ]
    },
    {
      "cell_type": "code",
      "execution_count": null,
      "id": "cfaea420-3ea5-4970-977e-da032fcfb1b9",
      "metadata": {
        "id": "cfaea420-3ea5-4970-977e-da032fcfb1b9",
        "outputId": "8b9c8098-9fc5-4488-f511-4f7de8c303e7"
      },
      "outputs": [
        {
          "name": "stdout",
          "output_type": "stream",
          "text": [
            "Original Data:\n",
            "[[1 2 3]\n",
            " [4 5 6]]\n",
            "\n",
            "Reshaped Data:\n",
            "[[1 2]\n",
            " [3 4]\n",
            " [5 6]]\n",
            "\n",
            "Flattened Data:\n",
            "[1 2 3 4 5 6]\n"
          ]
        }
      ],
      "source": [
        "import numpy as np\n",
        "\n",
        "# Sample data\n",
        "data = np.array([[1, 2, 3], [4, 5, 6]])\n",
        "\n",
        "# Reshape the data to a different shape\n",
        "reshaped_data = data.reshape(3, 2)\n",
        "\n",
        "# Flatten the data\n",
        "flattened_data = data.flatten()\n",
        "\n",
        "print(\"Original Data:\")\n",
        "print(data)\n",
        "\n",
        "print(\"\\nReshaped Data:\")\n",
        "print(reshaped_data)\n",
        "\n",
        "print(\"\\nFlattened Data:\")\n",
        "print(flattened_data)\n"
      ]
    },
    {
      "cell_type": "code",
      "execution_count": null,
      "id": "82f4d968-9a2d-4c8f-8482-03cbb0f1b488",
      "metadata": {
        "id": "82f4d968-9a2d-4c8f-8482-03cbb0f1b488",
        "outputId": "46b71441-b6fd-4120-f4c3-f1743348d86f"
      },
      "outputs": [
        {
          "name": "stdout",
          "output_type": "stream",
          "text": [
            "Sum of two numbers: 5\n",
            "Product of three numbers: 24\n"
          ]
        }
      ],
      "source": [
        "def calculate_result(a, b=None, c=None):\n",
        "    if c is not None:\n",
        "        return a * b * c  # Product of three numbers\n",
        "    elif b is not None:\n",
        "        return a + b  # Sum of two numbers\n",
        "    else:\n",
        "        return a\n",
        "\n",
        "# Example usage\n",
        "result1 = calculate_result(2, 3)\n",
        "result2 = calculate_result(2, 3, 4)\n",
        "\n",
        "print(\"Sum of two numbers:\", result1)\n",
        "print(\"Product of three numbers:\", result2)\n"
      ]
    },
    {
      "cell_type": "markdown",
      "id": "b38241fa-1106-48e6-b08f-af6ffcafbedb",
      "metadata": {
        "id": "b38241fa-1106-48e6-b08f-af6ffcafbedb"
      },
      "source": [
        "1.\tTo write a basic array of operations on single array to add x to each\n",
        "element of array and subtract y from each element of array Using Numpy\n",
        "2.\tTo write a python program to find Pandas Math Functions for Data\n",
        "Analysis. mean( ), sum ( ), median ( ), min ( ), max ( ), value_counts( ) and describe() function.\n"
      ]
    },
    {
      "cell_type": "code",
      "execution_count": null,
      "id": "9a52dbf1-1872-46cb-8b72-4cc035e0eca4",
      "metadata": {
        "id": "9a52dbf1-1872-46cb-8b72-4cc035e0eca4",
        "outputId": "5df95240-ea56-4d70-c123-9dd16d6ba715"
      },
      "outputs": [
        {
          "name": "stdout",
          "output_type": "stream",
          "text": [
            "Original Array: [1 2 3 4 5]\n",
            "Array after adding 10 to each element: [11 12 13 14 15]\n",
            "Array after subtracting 2 from each element: [-1  0  1  2  3]\n"
          ]
        }
      ],
      "source": [
        "import numpy as np\n",
        "\n",
        "# Create a sample array\n",
        "arr = np.array([1, 2, 3, 4, 5])\n",
        "\n",
        "# Define values to add and subtract\n",
        "x = 10\n",
        "y = 2\n",
        "\n",
        "# Add x to each element of the array\n",
        "result_add = arr + x\n",
        "\n",
        "# Subtract y from each element of the array\n",
        "result_subtract = arr - y\n",
        "\n",
        "print(\"Original Array:\", arr)\n",
        "print(\"Array after adding\", x, \"to each element:\", result_add)\n",
        "print(\"Array after subtracting\", y, \"from each element:\", result_subtract)\n"
      ]
    },
    {
      "cell_type": "code",
      "execution_count": null,
      "id": "fbed1d56-94b9-403a-8d6c-001b32c7f4ce",
      "metadata": {
        "id": "fbed1d56-94b9-403a-8d6c-001b32c7f4ce",
        "outputId": "204607de-3b8c-471f-a29f-90e1ff92f7fa"
      },
      "outputs": [
        {
          "name": "stdout",
          "output_type": "stream",
          "text": [
            "DataFrame:\n",
            "   Age  Salary\n",
            "0   25   50000\n",
            "1   30   60000\n",
            "2   35   70000\n",
            "3   40   80000\n",
            "4   45   90000\n",
            "\n",
            "Mean:\n",
            "Age          35.0\n",
            "Salary    70000.0\n",
            "dtype: float64\n",
            "\n",
            "Sum:\n",
            "Age          175\n",
            "Salary    350000\n",
            "dtype: int64\n",
            "\n",
            "Median:\n",
            "Age          35.0\n",
            "Salary    70000.0\n",
            "dtype: float64\n",
            "\n",
            "Minimum:\n",
            "Age          25\n",
            "Salary    50000\n",
            "dtype: int64\n",
            "\n",
            "Maximum:\n",
            "Age          45\n",
            "Salary    90000\n",
            "dtype: int64\n",
            "\n",
            "Value Counts (Age):\n",
            "25    1\n",
            "30    1\n",
            "35    1\n",
            "40    1\n",
            "45    1\n",
            "Name: Age, dtype: int64\n",
            "\n",
            "Description:\n",
            "             Age        Salary\n",
            "count   5.000000      5.000000\n",
            "mean   35.000000  70000.000000\n",
            "std     7.905694  15811.388301\n",
            "min    25.000000  50000.000000\n",
            "25%    30.000000  60000.000000\n",
            "50%    35.000000  70000.000000\n",
            "75%    40.000000  80000.000000\n",
            "max    45.000000  90000.000000\n"
          ]
        }
      ],
      "source": [
        "import pandas as pd\n",
        "\n",
        "# Sample data\n",
        "data = {\n",
        "    'Age': [25, 30, 35, 40, 45],\n",
        "    'Salary': [50000, 60000, 70000, 80000, 90000]\n",
        "}\n",
        "\n",
        "# Create a Pandas DataFrame\n",
        "df = pd.DataFrame(data)\n",
        "\n",
        "# Pandas math functions\n",
        "mean = df.mean()\n",
        "sum_value = df.sum()\n",
        "median = df.median()\n",
        "min_value = df.min()\n",
        "max_value = df.max()\n",
        "value_counts = df['Age'].value_counts()\n",
        "description = df.describe()\n",
        "\n",
        "print(\"DataFrame:\")\n",
        "print(df)\n",
        "\n",
        "print(\"\\nMean:\")\n",
        "print(mean)\n",
        "\n",
        "print(\"\\nSum:\")\n",
        "print(sum_value)\n",
        "\n",
        "print(\"\\nMedian:\")\n",
        "print(median)\n",
        "\n",
        "print(\"\\nMinimum:\")\n",
        "print(min_value)\n",
        "\n",
        "print(\"\\nMaximum:\")\n",
        "print(max_value)\n",
        "\n",
        "print(\"\\nValue Counts (Age):\")\n",
        "print(value_counts)\n",
        "\n",
        "print(\"\\nDescription:\")\n",
        "print(description)\n"
      ]
    },
    {
      "cell_type": "code",
      "execution_count": null,
      "id": "2cbdc9ad-3b46-4704-8195-48132d780a7a",
      "metadata": {
        "id": "2cbdc9ad-3b46-4704-8195-48132d780a7a",
        "outputId": "f59bb03e-a45b-4560-ea4f-fdf1ff9c6d32"
      },
      "outputs": [
        {
          "name": "stdin",
          "output_type": "stream",
          "text": [
            "enter a number:  7\n"
          ]
        },
        {
          "name": "stdout",
          "output_type": "stream",
          "text": [
            "True\n"
          ]
        }
      ],
      "source": [
        "def is_prime(num):\n",
        "    if num <= 1:\n",
        "        return False\n",
        "    for i in range(2, int(num*0.5)):\n",
        "        if num % i == 0:\n",
        "            return False\n",
        "    return True\n",
        "\n",
        "def twin_prime(num):\n",
        "\n",
        "\n",
        "\n",
        "num = int(input(\"enter a number: \"))\n",
        "res = is_prime(num)\n",
        "print(res)"
      ]
    },
    {
      "cell_type": "code",
      "execution_count": null,
      "id": "98106d79-2dd5-4f7c-88f8-0a74dde7edd4",
      "metadata": {
        "id": "98106d79-2dd5-4f7c-88f8-0a74dde7edd4"
      },
      "outputs": [],
      "source": []
    }
  ],
  "metadata": {
    "kernelspec": {
      "display_name": "Python 3 (ipykernel)",
      "language": "python",
      "name": "python3"
    },
    "language_info": {
      "codemirror_mode": {
        "name": "ipython",
        "version": 3
      },
      "file_extension": ".py",
      "mimetype": "text/x-python",
      "name": "python",
      "nbconvert_exporter": "python",
      "pygments_lexer": "ipython3",
      "version": "3.10.6"
    },
    "colab": {
      "provenance": [],
      "include_colab_link": true
    }
  },
  "nbformat": 4,
  "nbformat_minor": 5
}